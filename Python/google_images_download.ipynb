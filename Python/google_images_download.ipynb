{
 "cells": [
  {
   "cell_type": "code",
   "execution_count": 7,
   "metadata": {
    "ExecuteTime": {
     "end_time": "2020-04-14T18:56:57.563992Z",
     "start_time": "2020-04-14T18:56:57.556033Z"
    }
   },
   "outputs": [],
   "source": [
    "# importing google_images_download module \n",
    "from google_images_download import google_images_download  \n",
    "  \n",
    "# creating object \n",
    "response = google_images_download.googleimagesdownload()  \n",
    "  \n",
    "search_queries = [\"Warsaw\", \"Krakow\", \"Katowice\"] \n",
    "  \n",
    "def downloadimages(query): \n",
    "    # keywords is the search query \n",
    "    # format is the image file format \n",
    "    # limit is the number of images to be downloaded \n",
    "    # print urs is to print the image file url \n",
    "    # size is the image size which can \n",
    "    # be specified manually (\"large, medium, icon\") \n",
    "    # aspect ratio denotes the height width ratio \n",
    "    # of images to download. (\"tall, square, wide, panoramic\") \n",
    "    arguments = {\"keywords\": query, \n",
    "                 \"format\": \"jpg\", \n",
    "                 \"limit\":1, \n",
    "                 \"print_urls\":True, \n",
    "                 \"size\": \"medium\", \n",
    "                 \"aspect_ratio\":\"panoramic\"} \n",
    "    try: \n",
    "        response.download(arguments) \n",
    "      \n",
    "    # Handling File NotFound Error     \n",
    "    except FileNotFoundError:  \n",
    "        arguments = {\"keywords\": query, \n",
    "                     \"format\": \"jpg\", \n",
    "                     \"limit\":1, \n",
    "                     \"print_urls\":True,  \n",
    "                     \"size\": \"medium\"} \n",
    "                       \n",
    "        # Providing arguments for the searched query \n",
    "        try: \n",
    "            # Downloading the photos based \n",
    "            # on the given arguments \n",
    "            response.download(arguments)  \n",
    "        except: \n",
    "            pass"
   ]
  },
  {
   "cell_type": "code",
   "execution_count": 8,
   "metadata": {
    "ExecuteTime": {
     "end_time": "2020-04-14T18:57:02.145176Z",
     "start_time": "2020-04-14T18:56:59.969649Z"
    }
   },
   "outputs": [
    {
     "name": "stdout",
     "output_type": "stream",
     "text": [
      "\n",
      "Item no.: 1 --> Item name = Warsaw\n",
      "Evaluating...\n",
      "Starting Download...\n",
      "\n",
      "Errors: 0\n",
      "\n",
      "\n",
      "\n",
      "Item no.: 1 --> Item name = Krakow\n",
      "Evaluating...\n",
      "Starting Download...\n",
      "\n",
      "Errors: 0\n",
      "\n",
      "\n",
      "\n",
      "Item no.: 1 --> Item name = Katowice\n",
      "Evaluating...\n",
      "Starting Download...\n",
      "\n",
      "Errors: 0\n",
      "\n",
      "\n"
     ]
    }
   ],
   "source": [
    "# Driver Code \n",
    "for query in search_queries: \n",
    "    downloadimages(query)  \n",
    "    print()  "
   ]
  },
  {
   "cell_type": "code",
   "execution_count": 11,
   "metadata": {
    "ExecuteTime": {
     "end_time": "2020-04-14T19:00:24.964243Z",
     "start_time": "2020-04-14T19:00:23.332165Z"
    }
   },
   "outputs": [
    {
     "name": "stdout",
     "output_type": "stream",
     "text": [
      "\n",
      "Item no.: 1 --> Item name = The smartphone also features an in display fingerprint sensor.\n",
      "Evaluating...\n",
      "Starting Download...\n",
      "\n",
      "\n",
      "Unfortunately all 2 could not be downloaded because some images were not downloadable. 0 is all we got for this search filter!\n",
      "\n",
      "Errors: 0\n",
      "\n",
      "\n",
      "\n",
      "Item no.: 1 --> Item name = The pop up selfie camera is placed aligning with the rear cameras.\n",
      "Evaluating...\n",
      "Starting Download...\n",
      "\n",
      "\n",
      "Unfortunately all 2 could not be downloaded because some images were not downloadable. 0 is all we got for this search filter!\n",
      "\n",
      "Errors: 0\n",
      "\n",
      "\n",
      "\n",
      "Item no.: 1 --> Item name = The smartphone could be fuelled by a 3 700mAh battery.\n",
      "Evaluating...\n",
      "Starting Download...\n",
      "\n",
      "\n",
      "Unfortunately all 2 could not be downloaded because some images were not downloadable. 0 is all we got for this search filter!\n",
      "\n",
      "Errors: 0\n",
      "\n",
      "\n"
     ]
    }
   ],
   "source": [
    "# importing google_images_download module \n",
    "from google_images_download import google_images_download  \n",
    "  \n",
    "# creating object \n",
    "response = google_images_download.googleimagesdownload()  \n",
    "  \n",
    "search_queries = ['The smartphone also features an in display fingerprint sensor.', 'The pop up selfie camera is placed aligning with the rear cameras.', 'The smartphone could be fuelled by a 3 700mAh battery.'] \n",
    "  \n",
    "def downloadimages(query): \n",
    "    # keywords is the search query \n",
    "    # format is the image file format \n",
    "    # limit is the number of images to be downloaded \n",
    "    # print urs is to print the image file url \n",
    "    # size is the image size which can \n",
    "    # be specified manually (\"large, medium, icon\") \n",
    "    # aspect ratio denotes the height width ratio \n",
    "    # of images to download. (\"tall, square, wide, panoramic\") \n",
    "    arguments = {\"keywords\": query, \n",
    "                 \"format\": \"jpg\", \n",
    "                 \"limit\":2, \n",
    "                 \"print_urls\":True, \n",
    "                 \"size\": \"medium\", \n",
    "                 \"aspect_ratio\":\"panoramic\"} \n",
    "    try: \n",
    "        response.download(arguments) \n",
    "      \n",
    "    # Handling File NotFound Error     \n",
    "    except FileNotFoundError:  \n",
    "        arguments = {\"keywords\": query, \n",
    "                     \"format\": \"jpg\", \n",
    "                     \"limit\":2, \n",
    "                     \"print_urls\":True,  \n",
    "                     \"size\": \"medium\"} \n",
    "                       \n",
    "        # Providing arguments for the searched query \n",
    "        try: \n",
    "            # Downloading the photos based \n",
    "            # on the given arguments \n",
    "            response.download(arguments)  \n",
    "        except: \n",
    "            pass\n",
    "  \n",
    "# Driver Code \n",
    "for query in search_queries: \n",
    "    downloadimages(query)  \n",
    "    print()  "
   ]
  },
  {
   "cell_type": "code",
   "execution_count": null,
   "metadata": {},
   "outputs": [],
   "source": []
  }
 ],
 "metadata": {
  "hide_input": false,
  "kernelspec": {
   "display_name": "Python 3",
   "language": "python",
   "name": "python3"
  },
  "language_info": {
   "codemirror_mode": {
    "name": "ipython",
    "version": 3
   },
   "file_extension": ".py",
   "mimetype": "text/x-python",
   "name": "python",
   "nbconvert_exporter": "python",
   "pygments_lexer": "ipython3",
   "version": "3.7.4"
  },
  "varInspector": {
   "cols": {
    "lenName": 16,
    "lenType": 16,
    "lenVar": 40
   },
   "kernels_config": {
    "python": {
     "delete_cmd_postfix": "",
     "delete_cmd_prefix": "del ",
     "library": "var_list.py",
     "varRefreshCmd": "print(var_dic_list())"
    },
    "r": {
     "delete_cmd_postfix": ") ",
     "delete_cmd_prefix": "rm(",
     "library": "var_list.r",
     "varRefreshCmd": "cat(var_dic_list()) "
    }
   },
   "position": {
    "height": "359.646px",
    "left": "2179.67px",
    "right": "20px",
    "top": "120px",
    "width": "360.333px"
   },
   "types_to_exclude": [
    "module",
    "function",
    "builtin_function_or_method",
    "instance",
    "_Feature"
   ],
   "window_display": true
  }
 },
 "nbformat": 4,
 "nbformat_minor": 2
}
